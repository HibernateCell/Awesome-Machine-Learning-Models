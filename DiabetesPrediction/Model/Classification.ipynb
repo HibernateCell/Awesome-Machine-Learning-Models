{
 "cells": [
  {
   "cell_type": "markdown",
   "id": "c42cde14-c23e-4a03-a3c8-69bba44ddc51",
   "metadata": {},
   "source": [
    "### Diabetes Classification"
   ]
  },
  {
   "cell_type": "code",
   "execution_count": 1,
   "id": "bb91264f-eb09-4f72-8f45-0239d70d5433",
   "metadata": {},
   "outputs": [],
   "source": [
    "import pandas as pd\n",
    "import numpy as np\n",
    "import matplotlib.pyplot as plt"
   ]
  },
  {
   "cell_type": "code",
   "execution_count": 2,
   "id": "b6356b9c-da57-4abf-8475-3d3861ebf1c3",
   "metadata": {},
   "outputs": [],
   "source": [
    "plt.style.use('seaborn')"
   ]
  },
  {
   "cell_type": "markdown",
   "id": "21fd90fa-9be3-47bd-b2a4-d77bab6ed77d",
   "metadata": {},
   "source": [
    "### Data Analysis"
   ]
  },
  {
   "cell_type": "code",
   "execution_count": 3,
   "id": "dea15504-b212-4899-aba5-5c93eba4f39c",
   "metadata": {},
   "outputs": [],
   "source": [
    "#read my data\n",
    "dfx = pd.read_csv('Diabetes_XTrain.csv')\n",
    "dfy = pd.read_csv('Diabetes_YTrain.csv')"
   ]
  },
  {
   "cell_type": "code",
   "execution_count": 4,
   "id": "b7af5f00-d997-4e68-9d96-f7fbcd08005c",
   "metadata": {},
   "outputs": [],
   "source": [
    "#converting into numpy arrays\n",
    "X = dfx.values #x contains Pregnancies,Glucose,BloodPressure, Skin Thickness,Insulin, BMI,Age,DiabetesPedigreeFunction\n",
    "Y = dfy.values # y contains the categories i.e 0 or 1- absent or present respectively"
   ]
  },
  {
   "cell_type": "code",
   "execution_count": 9,
   "id": "b43c056f-9d7f-48e6-b63c-99f41a80f6bf",
   "metadata": {},
   "outputs": [
    {
     "name": "stdout",
     "output_type": "stream",
     "text": [
      "(576, 8)\n",
      "(576,)\n"
     ]
    }
   ],
   "source": [
    "print(X.shape)\n",
    "Y=Y.reshape(-1,)\n",
    "print(Y.shape)"
   ]
  },
  {
   "cell_type": "markdown",
   "id": "dd016944-336e-4752-b37c-fc0f6c30fe8e",
   "metadata": {},
   "source": [
    "### KNN"
   ]
  },
  {
   "cell_type": "code",
   "execution_count": 10,
   "id": "f61eaed6-599f-4517-ae24-a9775f5ad68c",
   "metadata": {},
   "outputs": [],
   "source": [
    "def dist(x1,x2): #defining euclidian distance\n",
    "    return np.sqrt(sum((x1-x2)**2))"
   ]
  },
  {
   "cell_type": "code",
   "execution_count": 11,
   "id": "17496775-8b8c-4d60-88e1-154d918fe7c8",
   "metadata": {},
   "outputs": [],
   "source": [
    "def knn(X,Y,queryPoint,k=5):\n",
    "    \n",
    "    vals = []#saves people info as tuples\n",
    "    m = X.shape[0] #no. of people\n",
    "    \n",
    "    for i in range(m):\n",
    "        d = dist(queryPoint,X[i])#calculating euclidian distance\n",
    "        vals.append((d,Y[i])) #appending distance and label\n",
    "        \n",
    "    \n",
    "    vals = sorted(vals) #sorting distances\n",
    "    # Nearest/First K points\n",
    "    vals = vals[:k] #until mentioned K points\n",
    "    \n",
    "    vals = np.array(vals) #converting to numpy array\n",
    "    \n",
    "    #print(vals)\n",
    "    \n",
    "    new_vals = np.unique(vals[:,1],return_counts=True) #counting no. of unique labels\n",
    "    #print(new_vals)\n",
    "    \n",
    "    index = new_vals[1].argmax()#max count label\n",
    "    pred = new_vals[0][index] #returning label of max count\n",
    "    \n",
    "    return pred"
   ]
  },
  {
   "cell_type": "markdown",
   "id": "fdc768e3-2aad-493c-8050-f9116f41daa2",
   "metadata": {},
   "source": [
    "### Downloading test data"
   ]
  },
  {
   "cell_type": "code",
   "execution_count": 12,
   "id": "40f53416-008d-4642-9b8a-270beb929584",
   "metadata": {},
   "outputs": [],
   "source": [
    "x_test=pd.read_csv('Diabetes_Xtest.csv')"
   ]
  },
  {
   "cell_type": "code",
   "execution_count": 13,
   "id": "ffa58793-ad76-4f30-a6bc-68d042beca35",
   "metadata": {},
   "outputs": [],
   "source": [
    "x_test=x_test.values#convert it to numpy array"
   ]
  },
  {
   "cell_type": "markdown",
   "id": "88aecd87-78fd-4282-b60c-43c12d4d6678",
   "metadata": {},
   "source": [
    "### Prediction "
   ]
  },
  {
   "cell_type": "code",
   "execution_count": 14,
   "id": "a27d9723-153e-4881-ad0f-aa95b74e4be1",
   "metadata": {},
   "outputs": [],
   "source": [
    "mylist = []\n",
    "for i in range(x_test.shape[0]):\n",
    "    p = knn(X,Y,x_test[i],17)\n",
    "    mylist.append(p)\n",
    "\n",
    "output = pd.DataFrame({'Outcome':np.array(mylist)})"
   ]
  },
  {
   "cell_type": "code",
   "execution_count": 16,
   "id": "0fd2b033-c877-4213-8bc6-4e82645fe7ad",
   "metadata": {},
   "outputs": [
    {
     "data": {
      "text/html": [
       "<div>\n",
       "<style scoped>\n",
       "    .dataframe tbody tr th:only-of-type {\n",
       "        vertical-align: middle;\n",
       "    }\n",
       "\n",
       "    .dataframe tbody tr th {\n",
       "        vertical-align: top;\n",
       "    }\n",
       "\n",
       "    .dataframe thead th {\n",
       "        text-align: right;\n",
       "    }\n",
       "</style>\n",
       "<table border=\"1\" class=\"dataframe\">\n",
       "  <thead>\n",
       "    <tr style=\"text-align: right;\">\n",
       "      <th></th>\n",
       "      <th>Outcome</th>\n",
       "    </tr>\n",
       "  </thead>\n",
       "  <tbody>\n",
       "    <tr>\n",
       "      <th>0</th>\n",
       "      <td>1.0</td>\n",
       "    </tr>\n",
       "    <tr>\n",
       "      <th>1</th>\n",
       "      <td>0.0</td>\n",
       "    </tr>\n",
       "    <tr>\n",
       "      <th>2</th>\n",
       "      <td>0.0</td>\n",
       "    </tr>\n",
       "    <tr>\n",
       "      <th>3</th>\n",
       "      <td>0.0</td>\n",
       "    </tr>\n",
       "    <tr>\n",
       "      <th>4</th>\n",
       "      <td>0.0</td>\n",
       "    </tr>\n",
       "    <tr>\n",
       "      <th>...</th>\n",
       "      <td>...</td>\n",
       "    </tr>\n",
       "    <tr>\n",
       "      <th>187</th>\n",
       "      <td>0.0</td>\n",
       "    </tr>\n",
       "    <tr>\n",
       "      <th>188</th>\n",
       "      <td>0.0</td>\n",
       "    </tr>\n",
       "    <tr>\n",
       "      <th>189</th>\n",
       "      <td>1.0</td>\n",
       "    </tr>\n",
       "    <tr>\n",
       "      <th>190</th>\n",
       "      <td>0.0</td>\n",
       "    </tr>\n",
       "    <tr>\n",
       "      <th>191</th>\n",
       "      <td>0.0</td>\n",
       "    </tr>\n",
       "  </tbody>\n",
       "</table>\n",
       "<p>192 rows × 1 columns</p>\n",
       "</div>"
      ],
      "text/plain": [
       "     Outcome\n",
       "0        1.0\n",
       "1        0.0\n",
       "2        0.0\n",
       "3        0.0\n",
       "4        0.0\n",
       "..       ...\n",
       "187      0.0\n",
       "188      0.0\n",
       "189      1.0\n",
       "190      0.0\n",
       "191      0.0\n",
       "\n",
       "[192 rows x 1 columns]"
      ]
     },
     "execution_count": 16,
     "metadata": {},
     "output_type": "execute_result"
    }
   ],
   "source": [
    "output"
   ]
  },
  {
   "cell_type": "code",
   "execution_count": null,
   "id": "6daf1be9-7635-4c61-a623-84096107920e",
   "metadata": {},
   "outputs": [],
   "source": []
  }
 ],
 "metadata": {
  "kernelspec": {
   "display_name": "Python 3",
   "language": "python",
   "name": "python3"
  },
  "language_info": {
   "codemirror_mode": {
    "name": "ipython",
    "version": 3
   },
   "file_extension": ".py",
   "mimetype": "text/x-python",
   "name": "python",
   "nbconvert_exporter": "python",
   "pygments_lexer": "ipython3",
   "version": "3.8.8"
  }
 },
 "nbformat": 4,
 "nbformat_minor": 5
}
